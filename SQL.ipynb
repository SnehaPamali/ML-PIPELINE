{
 "cells": [
  {
   "cell_type": "code",
   "execution_count": 4,
   "metadata": {},
   "outputs": [],
   "source": [
    "import pandas as pd \n",
    "import mysql.connector as connection "
   ]
  },
  {
   "cell_type": "code",
   "execution_count": 5,
   "metadata": {},
   "outputs": [],
   "source": [
    "mydb = connection.connect(host = 'localhost', user = 'root', password = 'Sneha@11', use_pure = True)"
   ]
  },
  {
   "cell_type": "code",
   "execution_count": 6,
   "metadata": {},
   "outputs": [],
   "source": [
    "query = 'create database eshopdataset;'\n",
    "cursor = mydb.cursor()"
   ]
  },
  {
   "cell_type": "code",
   "execution_count": null,
   "metadata": {},
   "outputs": [],
   "source": [
    "cursor.execute(query)"
   ]
  },
  {
   "cell_type": "code",
   "execution_count": 8,
   "metadata": {},
   "outputs": [],
   "source": [
    "mydb.close()"
   ]
  },
  {
   "cell_type": "code",
   "execution_count": 9,
   "metadata": {},
   "outputs": [],
   "source": [
    "from sqlalchemy import create_engine\n",
    "df = pd.DataFrame(pd.read_csv(r\"D:\\ML_Pipeline\\notebooks\\newdataset.csv\"))"
   ]
  },
  {
   "cell_type": "code",
   "execution_count": 10,
   "metadata": {},
   "outputs": [
    {
     "data": {
      "text/html": [
       "<div>\n",
       "<style scoped>\n",
       "    .dataframe tbody tr th:only-of-type {\n",
       "        vertical-align: middle;\n",
       "    }\n",
       "\n",
       "    .dataframe tbody tr th {\n",
       "        vertical-align: top;\n",
       "    }\n",
       "\n",
       "    .dataframe thead th {\n",
       "        text-align: right;\n",
       "    }\n",
       "</style>\n",
       "<table border=\"1\" class=\"dataframe\">\n",
       "  <thead>\n",
       "    <tr style=\"text-align: right;\">\n",
       "      <th></th>\n",
       "      <th>year</th>\n",
       "      <th>month</th>\n",
       "      <th>day</th>\n",
       "      <th>order</th>\n",
       "      <th>country</th>\n",
       "      <th>session ID</th>\n",
       "      <th>page 1 (main category)</th>\n",
       "      <th>page 2 (clothing model)</th>\n",
       "      <th>colour</th>\n",
       "      <th>model photography</th>\n",
       "      <th>price</th>\n",
       "      <th>page</th>\n",
       "    </tr>\n",
       "  </thead>\n",
       "  <tbody>\n",
       "    <tr>\n",
       "      <th>0</th>\n",
       "      <td>2008</td>\n",
       "      <td>April</td>\n",
       "      <td>1</td>\n",
       "      <td>1</td>\n",
       "      <td>Poland</td>\n",
       "      <td>1</td>\n",
       "      <td>trousers</td>\n",
       "      <td>A13</td>\n",
       "      <td>beige</td>\n",
       "      <td>1</td>\n",
       "      <td>28</td>\n",
       "      <td>1</td>\n",
       "    </tr>\n",
       "    <tr>\n",
       "      <th>1</th>\n",
       "      <td>2008</td>\n",
       "      <td>April</td>\n",
       "      <td>1</td>\n",
       "      <td>2</td>\n",
       "      <td>Poland</td>\n",
       "      <td>1</td>\n",
       "      <td>trousers</td>\n",
       "      <td>A16</td>\n",
       "      <td>beige</td>\n",
       "      <td>1</td>\n",
       "      <td>33</td>\n",
       "      <td>1</td>\n",
       "    </tr>\n",
       "    <tr>\n",
       "      <th>2</th>\n",
       "      <td>2008</td>\n",
       "      <td>April</td>\n",
       "      <td>1</td>\n",
       "      <td>3</td>\n",
       "      <td>Poland</td>\n",
       "      <td>1</td>\n",
       "      <td>skirts</td>\n",
       "      <td>B4</td>\n",
       "      <td>olive</td>\n",
       "      <td>1</td>\n",
       "      <td>52</td>\n",
       "      <td>1</td>\n",
       "    </tr>\n",
       "    <tr>\n",
       "      <th>3</th>\n",
       "      <td>2008</td>\n",
       "      <td>April</td>\n",
       "      <td>1</td>\n",
       "      <td>4</td>\n",
       "      <td>Poland</td>\n",
       "      <td>1</td>\n",
       "      <td>skirts</td>\n",
       "      <td>B17</td>\n",
       "      <td>gray</td>\n",
       "      <td>2</td>\n",
       "      <td>38</td>\n",
       "      <td>1</td>\n",
       "    </tr>\n",
       "    <tr>\n",
       "      <th>4</th>\n",
       "      <td>2008</td>\n",
       "      <td>April</td>\n",
       "      <td>1</td>\n",
       "      <td>5</td>\n",
       "      <td>Poland</td>\n",
       "      <td>1</td>\n",
       "      <td>skirts</td>\n",
       "      <td>B8</td>\n",
       "      <td>brown</td>\n",
       "      <td>2</td>\n",
       "      <td>52</td>\n",
       "      <td>1</td>\n",
       "    </tr>\n",
       "  </tbody>\n",
       "</table>\n",
       "</div>"
      ],
      "text/plain": [
       "   year  month  day  order country  session ID page 1 (main category)  \\\n",
       "0  2008  April    1      1  Poland           1               trousers   \n",
       "1  2008  April    1      2  Poland           1               trousers   \n",
       "2  2008  April    1      3  Poland           1                 skirts   \n",
       "3  2008  April    1      4  Poland           1                 skirts   \n",
       "4  2008  April    1      5  Poland           1                 skirts   \n",
       "\n",
       "  page 2 (clothing model) colour  model photography  price  page  \n",
       "0                     A13  beige                  1     28     1  \n",
       "1                     A16  beige                  1     33     1  \n",
       "2                      B4  olive                  1     52     1  \n",
       "3                     B17   gray                  2     38     1  \n",
       "4                      B8  brown                  2     52     1  "
      ]
     },
     "execution_count": 10,
     "metadata": {},
     "output_type": "execute_result"
    }
   ],
   "source": [
    "df.head()"
   ]
  },
  {
   "cell_type": "code",
   "execution_count": 11,
   "metadata": {},
   "outputs": [],
   "source": [
    "from sqlalchemy import create_engine\n",
    "import urllib.parse\n",
    "\n",
    "# Your password containing special characters like '@'\n",
    "password = \"Sneha@11\"\n",
    "\n",
    "# URL encode the password\n",
    "encoded_password = urllib.parse.quote_plus(password)\n",
    "\n",
    "# Define your database connection URL, including the encoded passwor\n"
   ]
  },
  {
   "cell_type": "code",
   "execution_count": 12,
   "metadata": {},
   "outputs": [],
   "source": [
    "from sqlalchemy import create_engine\n",
    "# engine = create_engine(f\"mysql://{user_name}:{password}@{\"localhost\"}/{\"Database_name\"}\")\n",
    "engine = create_engine(f'mysql://{\"root\"}:{encoded_password}@{\"localhost\"}/{\"eshopdataset\"}')\n",
    "table_name = \"eshopdata\""
   ]
  },
  {
   "cell_type": "code",
   "execution_count": 13,
   "metadata": {},
   "outputs": [
    {
     "name": "stdout",
     "output_type": "stream",
     "text": [
      "Data entered successfully\n"
     ]
    }
   ],
   "source": [
    "try: \n",
    "    df.to_sql(name = table_name, con = engine, if_exists = 'append', index = False)\n",
    "    print(\"Data entered successfully\")\n",
    "except Exception as e: \n",
    "    print(e)"
   ]
  },
  {
   "cell_type": "markdown",
   "metadata": {},
   "source": [
    "Fetching the data from the database"
   ]
  },
  {
   "cell_type": "code",
   "execution_count": 14,
   "metadata": {},
   "outputs": [
    {
     "name": "stdout",
     "output_type": "stream",
     "text": [
      "        year   month  day  order         country  session ID  \\\n",
      "0       2008   April    1      1          Poland           1   \n",
      "1       2008   April    1      2          Poland           1   \n",
      "2       2008   April    1      3          Poland           1   \n",
      "3       2008   April    1      4          Poland           1   \n",
      "4       2008   April    1      5          Poland           1   \n",
      "...      ...     ...  ...    ...             ...         ...   \n",
      "330943  2008  August   13      1          Poland       24024   \n",
      "330944  2008  August   13      1  Czech Republic       24025   \n",
      "330945  2008  August   13      1        Slovakia       24026   \n",
      "330946  2008  August   13      2        Slovakia       24026   \n",
      "330947  2008  August   13      3        Slovakia       24026   \n",
      "\n",
      "       page 1 (main category) page 2 (clothing model) colour  \\\n",
      "0                    trousers                     A13  beige   \n",
      "1                    trousers                     A16  beige   \n",
      "2                      skirts                      B4  olive   \n",
      "3                      skirts                     B17   gray   \n",
      "4                      skirts                      B8  brown   \n",
      "...                       ...                     ...    ...   \n",
      "330943                 skirts                     B10  black   \n",
      "330944               trousers                     A11   blue   \n",
      "330945               trousers                      A2   blue   \n",
      "330946                blouses                      C2    red   \n",
      "330947                 skirts                      B2   blue   \n",
      "\n",
      "        model photography  price  page  \n",
      "0                       1     28     1  \n",
      "1                       1     33     1  \n",
      "2                       1     52     1  \n",
      "3                       2     38     1  \n",
      "4                       2     52     1  \n",
      "...                   ...    ...   ...  \n",
      "330943                  1     67     1  \n",
      "330944                  1     62     1  \n",
      "330945                  1     43     1  \n",
      "330946                  1     43     1  \n",
      "330947                  2     57     1  \n",
      "\n",
      "[330948 rows x 12 columns]\n"
     ]
    }
   ],
   "source": [
    "query = \"SELECT * From eshopdata\"\n",
    "df1 = pd.read_sql(query, engine)\n",
    "print(df1)"
   ]
  },
  {
   "cell_type": "code",
   "execution_count": 15,
   "metadata": {},
   "outputs": [
    {
     "data": {
      "text/plain": [
       "year                        int64\n",
       "month                      object\n",
       "day                         int64\n",
       "order                       int64\n",
       "country                    object\n",
       "session ID                  int64\n",
       "page 1 (main category)     object\n",
       "page 2 (clothing model)    object\n",
       "colour                     object\n",
       "model photography           int64\n",
       "price                       int64\n",
       "page                        int64\n",
       "dtype: object"
      ]
     },
     "execution_count": 15,
     "metadata": {},
     "output_type": "execute_result"
    }
   ],
   "source": [
    "df1.dtypes"
   ]
  },
  {
   "cell_type": "code",
   "execution_count": 16,
   "metadata": {},
   "outputs": [],
   "source": [
    "file_path = 'D:/ML_Pipeline/notebooks/data/newdataset.csv'"
   ]
  },
  {
   "cell_type": "code",
   "execution_count": 17,
   "metadata": {},
   "outputs": [],
   "source": [
    "df1.to_csv(file_path, index=False)"
   ]
  }
 ],
 "metadata": {
  "kernelspec": {
   "display_name": "venv",
   "language": "python",
   "name": "python3"
  },
  "language_info": {
   "codemirror_mode": {
    "name": "ipython",
    "version": 3
   },
   "file_extension": ".py",
   "mimetype": "text/x-python",
   "name": "python",
   "nbconvert_exporter": "python",
   "pygments_lexer": "ipython3",
   "version": "3.9.7"
  }
 },
 "nbformat": 4,
 "nbformat_minor": 2
}
