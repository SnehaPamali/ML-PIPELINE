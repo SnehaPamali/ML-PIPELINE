{
 "cells": [
  {
   "cell_type": "code",
   "execution_count": 3,
   "metadata": {},
   "outputs": [],
   "source": [
    "import pandas as pd"
   ]
  },
  {
   "cell_type": "code",
   "execution_count": 8,
   "metadata": {},
   "outputs": [
    {
     "data": {
      "text/html": [
       "<div>\n",
       "<style scoped>\n",
       "    .dataframe tbody tr th:only-of-type {\n",
       "        vertical-align: middle;\n",
       "    }\n",
       "\n",
       "    .dataframe tbody tr th {\n",
       "        vertical-align: top;\n",
       "    }\n",
       "\n",
       "    .dataframe thead th {\n",
       "        text-align: right;\n",
       "    }\n",
       "</style>\n",
       "<table border=\"1\" class=\"dataframe\">\n",
       "  <thead>\n",
       "    <tr style=\"text-align: right;\">\n",
       "      <th></th>\n",
       "      <th>year</th>\n",
       "      <th>month</th>\n",
       "      <th>day</th>\n",
       "      <th>order</th>\n",
       "      <th>country</th>\n",
       "      <th>session ID</th>\n",
       "      <th>page 1 (main category)</th>\n",
       "      <th>page 2 (clothing model)</th>\n",
       "      <th>colour</th>\n",
       "      <th>location</th>\n",
       "      <th>model photography</th>\n",
       "      <th>price</th>\n",
       "      <th>price 2</th>\n",
       "      <th>page</th>\n",
       "    </tr>\n",
       "  </thead>\n",
       "  <tbody>\n",
       "    <tr>\n",
       "      <th>0</th>\n",
       "      <td>2008</td>\n",
       "      <td>4</td>\n",
       "      <td>1</td>\n",
       "      <td>1</td>\n",
       "      <td>29</td>\n",
       "      <td>1</td>\n",
       "      <td>1</td>\n",
       "      <td>A13</td>\n",
       "      <td>1</td>\n",
       "      <td>5</td>\n",
       "      <td>1</td>\n",
       "      <td>28</td>\n",
       "      <td>2</td>\n",
       "      <td>1</td>\n",
       "    </tr>\n",
       "    <tr>\n",
       "      <th>1</th>\n",
       "      <td>2008</td>\n",
       "      <td>4</td>\n",
       "      <td>1</td>\n",
       "      <td>2</td>\n",
       "      <td>29</td>\n",
       "      <td>1</td>\n",
       "      <td>1</td>\n",
       "      <td>A16</td>\n",
       "      <td>1</td>\n",
       "      <td>6</td>\n",
       "      <td>1</td>\n",
       "      <td>33</td>\n",
       "      <td>2</td>\n",
       "      <td>1</td>\n",
       "    </tr>\n",
       "    <tr>\n",
       "      <th>2</th>\n",
       "      <td>2008</td>\n",
       "      <td>4</td>\n",
       "      <td>1</td>\n",
       "      <td>3</td>\n",
       "      <td>29</td>\n",
       "      <td>1</td>\n",
       "      <td>2</td>\n",
       "      <td>B4</td>\n",
       "      <td>10</td>\n",
       "      <td>2</td>\n",
       "      <td>1</td>\n",
       "      <td>52</td>\n",
       "      <td>1</td>\n",
       "      <td>1</td>\n",
       "    </tr>\n",
       "    <tr>\n",
       "      <th>3</th>\n",
       "      <td>2008</td>\n",
       "      <td>4</td>\n",
       "      <td>1</td>\n",
       "      <td>4</td>\n",
       "      <td>29</td>\n",
       "      <td>1</td>\n",
       "      <td>2</td>\n",
       "      <td>B17</td>\n",
       "      <td>6</td>\n",
       "      <td>6</td>\n",
       "      <td>2</td>\n",
       "      <td>38</td>\n",
       "      <td>2</td>\n",
       "      <td>1</td>\n",
       "    </tr>\n",
       "    <tr>\n",
       "      <th>4</th>\n",
       "      <td>2008</td>\n",
       "      <td>4</td>\n",
       "      <td>1</td>\n",
       "      <td>5</td>\n",
       "      <td>29</td>\n",
       "      <td>1</td>\n",
       "      <td>2</td>\n",
       "      <td>B8</td>\n",
       "      <td>4</td>\n",
       "      <td>3</td>\n",
       "      <td>2</td>\n",
       "      <td>52</td>\n",
       "      <td>1</td>\n",
       "      <td>1</td>\n",
       "    </tr>\n",
       "  </tbody>\n",
       "</table>\n",
       "</div>"
      ],
      "text/plain": [
       "   year  month  day  order  country  session ID  page 1 (main category)  \\\n",
       "0  2008      4    1      1       29           1                       1   \n",
       "1  2008      4    1      2       29           1                       1   \n",
       "2  2008      4    1      3       29           1                       2   \n",
       "3  2008      4    1      4       29           1                       2   \n",
       "4  2008      4    1      5       29           1                       2   \n",
       "\n",
       "  page 2 (clothing model)  colour  location  model photography  price  \\\n",
       "0                     A13       1         5                  1     28   \n",
       "1                     A16       1         6                  1     33   \n",
       "2                      B4      10         2                  1     52   \n",
       "3                     B17       6         6                  2     38   \n",
       "4                      B8       4         3                  2     52   \n",
       "\n",
       "   price 2  page  \n",
       "0        2     1  \n",
       "1        2     1  \n",
       "2        1     1  \n",
       "3        2     1  \n",
       "4        1     1  "
      ]
     },
     "execution_count": 8,
     "metadata": {},
     "output_type": "execute_result"
    }
   ],
   "source": [
    "df = pd.DataFrame(pd.read_csv(\"data/eshopdata.csv\"))\n",
    "df.head()"
   ]
  },
  {
   "cell_type": "code",
   "execution_count": 9,
   "metadata": {},
   "outputs": [
    {
     "ename": "NameError",
     "evalue": "name 'sns' is not defined",
     "output_type": "error",
     "traceback": [
      "\u001b[1;31m---------------------------------------------------------------------------\u001b[0m",
      "\u001b[1;31mNameError\u001b[0m                                 Traceback (most recent call last)",
      "\u001b[1;32m~\\AppData\\Local\\Temp/ipykernel_16132/3028576344.py\u001b[0m in \u001b[0;36m<module>\u001b[1;34m\u001b[0m\n\u001b[1;32m----> 1\u001b[1;33m \u001b[0msns\u001b[0m\u001b[1;33m.\u001b[0m\u001b[0mheatmap\u001b[0m\u001b[1;33m(\u001b[0m\u001b[0mdf\u001b[0m\u001b[1;33m.\u001b[0m\u001b[0mcorr\u001b[0m\u001b[1;33m(\u001b[0m\u001b[1;33m)\u001b[0m\u001b[1;33m,\u001b[0m \u001b[0mannot\u001b[0m \u001b[1;33m=\u001b[0m \u001b[1;32mTrue\u001b[0m\u001b[1;33m)\u001b[0m\u001b[1;33m\u001b[0m\u001b[1;33m\u001b[0m\u001b[0m\n\u001b[0m",
      "\u001b[1;31mNameError\u001b[0m: name 'sns' is not defined"
     ]
    }
   ],
   "source": [
    "sns.heatmap(df.corr(), annot = True)"
   ]
  },
  {
   "cell_type": "code",
   "execution_count": 10,
   "metadata": {},
   "outputs": [
    {
     "data": {
      "text/plain": [
       "year   month  day    order  country  session ID  page 1 (main category)  page 2 (clothing model)  colour  location  model photography  price  price 2  page \n",
       "False  False  False  False  False    False       False                   False                    False   False     False              False  False    False    165474\n",
       "dtype: int64"
      ]
     },
     "execution_count": 10,
     "metadata": {},
     "output_type": "execute_result"
    }
   ],
   "source": [
    "df.isnull().value_counts()"
   ]
  },
  {
   "cell_type": "code",
   "execution_count": 11,
   "metadata": {},
   "outputs": [
    {
     "data": {
      "text/plain": [
       "year                       0\n",
       "month                      0\n",
       "day                        0\n",
       "order                      0\n",
       "country                    0\n",
       "session ID                 0\n",
       "page 1 (main category)     0\n",
       "page 2 (clothing model)    0\n",
       "colour                     0\n",
       "location                   0\n",
       "model photography          0\n",
       "price                      0\n",
       "price 2                    0\n",
       "page                       0\n",
       "dtype: int64"
      ]
     },
     "execution_count": 11,
     "metadata": {},
     "output_type": "execute_result"
    }
   ],
   "source": [
    "df.isnull().sum()"
   ]
  },
  {
   "cell_type": "markdown",
   "metadata": {},
   "source": [
    "changing the colour variable type\n"
   ]
  },
  {
   "cell_type": "code",
   "execution_count": 12,
   "metadata": {},
   "outputs": [
    {
     "data": {
      "text/plain": [
       "array([ 1, 10,  6,  4,  5,  9, 12, 11,  2,  3, 13, 14,  7,  8],\n",
       "      dtype=int64)"
      ]
     },
     "execution_count": 12,
     "metadata": {},
     "output_type": "execute_result"
    }
   ],
   "source": [
    "df['colour'].unique()"
   ]
  },
  {
   "cell_type": "code",
   "execution_count": 13,
   "metadata": {},
   "outputs": [],
   "source": [
    "\n",
    "color_map = {\n",
    "    1: 'beige',\n",
    "    2: 'black',\n",
    "    3: 'blue',\n",
    "    4: 'brown',\n",
    "    5: 'burgundy',\n",
    "    6: 'gray',\n",
    "    7: 'green',\n",
    "    8: 'navy blue',\n",
    "    9: 'of many colors',\n",
    "    10: 'olive',\n",
    "    11: 'pink',\n",
    "    12: 'red',\n",
    "    13: 'violet',\n",
    "    14: 'white'\n",
    "}\n",
    "\n"
   ]
  },
  {
   "cell_type": "code",
   "execution_count": 14,
   "metadata": {},
   "outputs": [],
   "source": [
    "df['colour'].replace(color_map, inplace=True)"
   ]
  },
  {
   "cell_type": "code",
   "execution_count": 15,
   "metadata": {},
   "outputs": [],
   "source": [
    "month_map= {\n",
    "    4: 'April',\n",
    "    5: 'May',\n",
    "    6: 'June',\n",
    "    7: 'July',\n",
    "    8: 'August'\n",
    "}\n",
    "df['month'].replace({4: 'April', 5: 'May', 7: 'July', 8: 'August'}, inplace=True)\n",
    "\n"
   ]
  },
  {
   "cell_type": "code",
   "execution_count": 16,
   "metadata": {},
   "outputs": [],
   "source": [
    "country_map = {\n",
    "    1: 'Australia',\n",
    "    2: 'Austria',\n",
    "    3: 'Belgium',\n",
    "    4: 'British Virgin Islands',\n",
    "    5: 'Cayman Islands',\n",
    "    6: 'Christmas Island',\n",
    "    7: 'Croatia',\n",
    "    8: 'Cyprus',\n",
    "    9: 'Czech Republic',\n",
    "    10: 'Denmark',\n",
    "    11: 'Estonia',\n",
    "    12: 'unidentified',\n",
    "    13: 'Faroe Islands',\n",
    "    14: 'Finland',\n",
    "    15: 'France',\n",
    "    16: 'Germany',\n",
    "    17: 'Greece',\n",
    "    18: 'Hungary',\n",
    "    19: 'Iceland',\n",
    "    20: 'India',\n",
    "    21: 'Ireland',\n",
    "    22: 'Italy',\n",
    "    23: 'Latvia',\n",
    "    24: 'Lithuania',\n",
    "    25: 'Luxembourg',\n",
    "    26: 'Mexico',\n",
    "    27: 'Netherlands',\n",
    "    28: 'Norway',\n",
    "    29: 'Poland',\n",
    "    30: 'Portugal',\n",
    "    31: 'Romania',\n",
    "    32: 'Russia',\n",
    "    33: 'San Marino',\n",
    "    34: 'Slovakia',\n",
    "    35: 'Slovenia',\n",
    "    36: 'Spain',\n",
    "    37: 'Sweden',\n",
    "    38: 'Switzerland',\n",
    "    39: 'Ukraine',\n",
    "    40: 'United Arab Emirates',\n",
    "    41: 'United Kingdom',\n",
    "    42: 'USA',\n",
    "    43: 'biz (*.biz)',\n",
    "    44: 'com (*.com)',\n",
    "    45: 'int (*.int)',\n",
    "    46: 'net (*.net)',\n",
    "    47: 'org (*.org)'\n",
    "}\n",
    "\n",
    "# Replace numerical country codes with country names in the DataFrame\n",
    "df['country'].replace(country_map, inplace=True)\n"
   ]
  },
  {
   "cell_type": "code",
   "execution_count": 17,
   "metadata": {},
   "outputs": [],
   "source": [
    "page1_map = {\n",
    "    1: 'trousers',\n",
    "    2: 'skirts',\n",
    "    3: 'blouses',\n",
    "    4: 'sale'\n",
    "}\n",
    "\n",
    "# Replace numerical page1 codes with category names in the DataFrame\n",
    "df['page 1 (main category)'].replace(page1_map, inplace=True)\n"
   ]
  },
  {
   "cell_type": "code",
   "execution_count": 18,
   "metadata": {},
   "outputs": [
    {
     "data": {
      "text/html": [
       "<div>\n",
       "<style scoped>\n",
       "    .dataframe tbody tr th:only-of-type {\n",
       "        vertical-align: middle;\n",
       "    }\n",
       "\n",
       "    .dataframe tbody tr th {\n",
       "        vertical-align: top;\n",
       "    }\n",
       "\n",
       "    .dataframe thead th {\n",
       "        text-align: right;\n",
       "    }\n",
       "</style>\n",
       "<table border=\"1\" class=\"dataframe\">\n",
       "  <thead>\n",
       "    <tr style=\"text-align: right;\">\n",
       "      <th></th>\n",
       "      <th>year</th>\n",
       "      <th>month</th>\n",
       "      <th>day</th>\n",
       "      <th>order</th>\n",
       "      <th>country</th>\n",
       "      <th>session ID</th>\n",
       "      <th>page 1 (main category)</th>\n",
       "      <th>page 2 (clothing model)</th>\n",
       "      <th>colour</th>\n",
       "      <th>location</th>\n",
       "      <th>model photography</th>\n",
       "      <th>price</th>\n",
       "      <th>price 2</th>\n",
       "      <th>page</th>\n",
       "    </tr>\n",
       "  </thead>\n",
       "  <tbody>\n",
       "    <tr>\n",
       "      <th>0</th>\n",
       "      <td>2008</td>\n",
       "      <td>April</td>\n",
       "      <td>1</td>\n",
       "      <td>1</td>\n",
       "      <td>Poland</td>\n",
       "      <td>1</td>\n",
       "      <td>trousers</td>\n",
       "      <td>A13</td>\n",
       "      <td>beige</td>\n",
       "      <td>5</td>\n",
       "      <td>1</td>\n",
       "      <td>28</td>\n",
       "      <td>2</td>\n",
       "      <td>1</td>\n",
       "    </tr>\n",
       "    <tr>\n",
       "      <th>1</th>\n",
       "      <td>2008</td>\n",
       "      <td>April</td>\n",
       "      <td>1</td>\n",
       "      <td>2</td>\n",
       "      <td>Poland</td>\n",
       "      <td>1</td>\n",
       "      <td>trousers</td>\n",
       "      <td>A16</td>\n",
       "      <td>beige</td>\n",
       "      <td>6</td>\n",
       "      <td>1</td>\n",
       "      <td>33</td>\n",
       "      <td>2</td>\n",
       "      <td>1</td>\n",
       "    </tr>\n",
       "    <tr>\n",
       "      <th>2</th>\n",
       "      <td>2008</td>\n",
       "      <td>April</td>\n",
       "      <td>1</td>\n",
       "      <td>3</td>\n",
       "      <td>Poland</td>\n",
       "      <td>1</td>\n",
       "      <td>skirts</td>\n",
       "      <td>B4</td>\n",
       "      <td>olive</td>\n",
       "      <td>2</td>\n",
       "      <td>1</td>\n",
       "      <td>52</td>\n",
       "      <td>1</td>\n",
       "      <td>1</td>\n",
       "    </tr>\n",
       "    <tr>\n",
       "      <th>3</th>\n",
       "      <td>2008</td>\n",
       "      <td>April</td>\n",
       "      <td>1</td>\n",
       "      <td>4</td>\n",
       "      <td>Poland</td>\n",
       "      <td>1</td>\n",
       "      <td>skirts</td>\n",
       "      <td>B17</td>\n",
       "      <td>gray</td>\n",
       "      <td>6</td>\n",
       "      <td>2</td>\n",
       "      <td>38</td>\n",
       "      <td>2</td>\n",
       "      <td>1</td>\n",
       "    </tr>\n",
       "    <tr>\n",
       "      <th>4</th>\n",
       "      <td>2008</td>\n",
       "      <td>April</td>\n",
       "      <td>1</td>\n",
       "      <td>5</td>\n",
       "      <td>Poland</td>\n",
       "      <td>1</td>\n",
       "      <td>skirts</td>\n",
       "      <td>B8</td>\n",
       "      <td>brown</td>\n",
       "      <td>3</td>\n",
       "      <td>2</td>\n",
       "      <td>52</td>\n",
       "      <td>1</td>\n",
       "      <td>1</td>\n",
       "    </tr>\n",
       "    <tr>\n",
       "      <th>...</th>\n",
       "      <td>...</td>\n",
       "      <td>...</td>\n",
       "      <td>...</td>\n",
       "      <td>...</td>\n",
       "      <td>...</td>\n",
       "      <td>...</td>\n",
       "      <td>...</td>\n",
       "      <td>...</td>\n",
       "      <td>...</td>\n",
       "      <td>...</td>\n",
       "      <td>...</td>\n",
       "      <td>...</td>\n",
       "      <td>...</td>\n",
       "      <td>...</td>\n",
       "    </tr>\n",
       "    <tr>\n",
       "      <th>165469</th>\n",
       "      <td>2008</td>\n",
       "      <td>August</td>\n",
       "      <td>13</td>\n",
       "      <td>1</td>\n",
       "      <td>Poland</td>\n",
       "      <td>24024</td>\n",
       "      <td>skirts</td>\n",
       "      <td>B10</td>\n",
       "      <td>black</td>\n",
       "      <td>4</td>\n",
       "      <td>1</td>\n",
       "      <td>67</td>\n",
       "      <td>1</td>\n",
       "      <td>1</td>\n",
       "    </tr>\n",
       "    <tr>\n",
       "      <th>165470</th>\n",
       "      <td>2008</td>\n",
       "      <td>August</td>\n",
       "      <td>13</td>\n",
       "      <td>1</td>\n",
       "      <td>Czech Republic</td>\n",
       "      <td>24025</td>\n",
       "      <td>trousers</td>\n",
       "      <td>A11</td>\n",
       "      <td>blue</td>\n",
       "      <td>4</td>\n",
       "      <td>1</td>\n",
       "      <td>62</td>\n",
       "      <td>1</td>\n",
       "      <td>1</td>\n",
       "    </tr>\n",
       "    <tr>\n",
       "      <th>165471</th>\n",
       "      <td>2008</td>\n",
       "      <td>August</td>\n",
       "      <td>13</td>\n",
       "      <td>1</td>\n",
       "      <td>Slovakia</td>\n",
       "      <td>24026</td>\n",
       "      <td>trousers</td>\n",
       "      <td>A2</td>\n",
       "      <td>blue</td>\n",
       "      <td>1</td>\n",
       "      <td>1</td>\n",
       "      <td>43</td>\n",
       "      <td>2</td>\n",
       "      <td>1</td>\n",
       "    </tr>\n",
       "    <tr>\n",
       "      <th>165472</th>\n",
       "      <td>2008</td>\n",
       "      <td>August</td>\n",
       "      <td>13</td>\n",
       "      <td>2</td>\n",
       "      <td>Slovakia</td>\n",
       "      <td>24026</td>\n",
       "      <td>blouses</td>\n",
       "      <td>C2</td>\n",
       "      <td>red</td>\n",
       "      <td>1</td>\n",
       "      <td>1</td>\n",
       "      <td>43</td>\n",
       "      <td>1</td>\n",
       "      <td>1</td>\n",
       "    </tr>\n",
       "    <tr>\n",
       "      <th>165473</th>\n",
       "      <td>2008</td>\n",
       "      <td>August</td>\n",
       "      <td>13</td>\n",
       "      <td>3</td>\n",
       "      <td>Slovakia</td>\n",
       "      <td>24026</td>\n",
       "      <td>skirts</td>\n",
       "      <td>B2</td>\n",
       "      <td>blue</td>\n",
       "      <td>1</td>\n",
       "      <td>2</td>\n",
       "      <td>57</td>\n",
       "      <td>1</td>\n",
       "      <td>1</td>\n",
       "    </tr>\n",
       "  </tbody>\n",
       "</table>\n",
       "<p>165474 rows × 14 columns</p>\n",
       "</div>"
      ],
      "text/plain": [
       "        year   month  day  order         country  session ID  \\\n",
       "0       2008   April    1      1          Poland           1   \n",
       "1       2008   April    1      2          Poland           1   \n",
       "2       2008   April    1      3          Poland           1   \n",
       "3       2008   April    1      4          Poland           1   \n",
       "4       2008   April    1      5          Poland           1   \n",
       "...      ...     ...  ...    ...             ...         ...   \n",
       "165469  2008  August   13      1          Poland       24024   \n",
       "165470  2008  August   13      1  Czech Republic       24025   \n",
       "165471  2008  August   13      1        Slovakia       24026   \n",
       "165472  2008  August   13      2        Slovakia       24026   \n",
       "165473  2008  August   13      3        Slovakia       24026   \n",
       "\n",
       "       page 1 (main category) page 2 (clothing model) colour  location  \\\n",
       "0                    trousers                     A13  beige         5   \n",
       "1                    trousers                     A16  beige         6   \n",
       "2                      skirts                      B4  olive         2   \n",
       "3                      skirts                     B17   gray         6   \n",
       "4                      skirts                      B8  brown         3   \n",
       "...                       ...                     ...    ...       ...   \n",
       "165469                 skirts                     B10  black         4   \n",
       "165470               trousers                     A11   blue         4   \n",
       "165471               trousers                      A2   blue         1   \n",
       "165472                blouses                      C2    red         1   \n",
       "165473                 skirts                      B2   blue         1   \n",
       "\n",
       "        model photography  price  price 2  page  \n",
       "0                       1     28        2     1  \n",
       "1                       1     33        2     1  \n",
       "2                       1     52        1     1  \n",
       "3                       2     38        2     1  \n",
       "4                       2     52        1     1  \n",
       "...                   ...    ...      ...   ...  \n",
       "165469                  1     67        1     1  \n",
       "165470                  1     62        1     1  \n",
       "165471                  1     43        2     1  \n",
       "165472                  1     43        1     1  \n",
       "165473                  2     57        1     1  \n",
       "\n",
       "[165474 rows x 14 columns]"
      ]
     },
     "execution_count": 18,
     "metadata": {},
     "output_type": "execute_result"
    }
   ],
   "source": [
    "df"
   ]
  },
  {
   "cell_type": "code",
   "execution_count": 19,
   "metadata": {},
   "outputs": [],
   "source": [
    "columns_to_drop = ['location', 'price 2']\n",
    "df.drop(columns=columns_to_drop, inplace=True)"
   ]
  },
  {
   "cell_type": "code",
   "execution_count": 20,
   "metadata": {},
   "outputs": [
    {
     "data": {
      "text/html": [
       "<div>\n",
       "<style scoped>\n",
       "    .dataframe tbody tr th:only-of-type {\n",
       "        vertical-align: middle;\n",
       "    }\n",
       "\n",
       "    .dataframe tbody tr th {\n",
       "        vertical-align: top;\n",
       "    }\n",
       "\n",
       "    .dataframe thead th {\n",
       "        text-align: right;\n",
       "    }\n",
       "</style>\n",
       "<table border=\"1\" class=\"dataframe\">\n",
       "  <thead>\n",
       "    <tr style=\"text-align: right;\">\n",
       "      <th></th>\n",
       "      <th>year</th>\n",
       "      <th>month</th>\n",
       "      <th>day</th>\n",
       "      <th>order</th>\n",
       "      <th>country</th>\n",
       "      <th>session ID</th>\n",
       "      <th>page 1 (main category)</th>\n",
       "      <th>page 2 (clothing model)</th>\n",
       "      <th>colour</th>\n",
       "      <th>model photography</th>\n",
       "      <th>price</th>\n",
       "      <th>page</th>\n",
       "    </tr>\n",
       "  </thead>\n",
       "  <tbody>\n",
       "    <tr>\n",
       "      <th>0</th>\n",
       "      <td>2008</td>\n",
       "      <td>April</td>\n",
       "      <td>1</td>\n",
       "      <td>1</td>\n",
       "      <td>Poland</td>\n",
       "      <td>1</td>\n",
       "      <td>trousers</td>\n",
       "      <td>A13</td>\n",
       "      <td>beige</td>\n",
       "      <td>1</td>\n",
       "      <td>28</td>\n",
       "      <td>1</td>\n",
       "    </tr>\n",
       "    <tr>\n",
       "      <th>1</th>\n",
       "      <td>2008</td>\n",
       "      <td>April</td>\n",
       "      <td>1</td>\n",
       "      <td>2</td>\n",
       "      <td>Poland</td>\n",
       "      <td>1</td>\n",
       "      <td>trousers</td>\n",
       "      <td>A16</td>\n",
       "      <td>beige</td>\n",
       "      <td>1</td>\n",
       "      <td>33</td>\n",
       "      <td>1</td>\n",
       "    </tr>\n",
       "    <tr>\n",
       "      <th>2</th>\n",
       "      <td>2008</td>\n",
       "      <td>April</td>\n",
       "      <td>1</td>\n",
       "      <td>3</td>\n",
       "      <td>Poland</td>\n",
       "      <td>1</td>\n",
       "      <td>skirts</td>\n",
       "      <td>B4</td>\n",
       "      <td>olive</td>\n",
       "      <td>1</td>\n",
       "      <td>52</td>\n",
       "      <td>1</td>\n",
       "    </tr>\n",
       "    <tr>\n",
       "      <th>3</th>\n",
       "      <td>2008</td>\n",
       "      <td>April</td>\n",
       "      <td>1</td>\n",
       "      <td>4</td>\n",
       "      <td>Poland</td>\n",
       "      <td>1</td>\n",
       "      <td>skirts</td>\n",
       "      <td>B17</td>\n",
       "      <td>gray</td>\n",
       "      <td>2</td>\n",
       "      <td>38</td>\n",
       "      <td>1</td>\n",
       "    </tr>\n",
       "    <tr>\n",
       "      <th>4</th>\n",
       "      <td>2008</td>\n",
       "      <td>April</td>\n",
       "      <td>1</td>\n",
       "      <td>5</td>\n",
       "      <td>Poland</td>\n",
       "      <td>1</td>\n",
       "      <td>skirts</td>\n",
       "      <td>B8</td>\n",
       "      <td>brown</td>\n",
       "      <td>2</td>\n",
       "      <td>52</td>\n",
       "      <td>1</td>\n",
       "    </tr>\n",
       "    <tr>\n",
       "      <th>...</th>\n",
       "      <td>...</td>\n",
       "      <td>...</td>\n",
       "      <td>...</td>\n",
       "      <td>...</td>\n",
       "      <td>...</td>\n",
       "      <td>...</td>\n",
       "      <td>...</td>\n",
       "      <td>...</td>\n",
       "      <td>...</td>\n",
       "      <td>...</td>\n",
       "      <td>...</td>\n",
       "      <td>...</td>\n",
       "    </tr>\n",
       "    <tr>\n",
       "      <th>165469</th>\n",
       "      <td>2008</td>\n",
       "      <td>August</td>\n",
       "      <td>13</td>\n",
       "      <td>1</td>\n",
       "      <td>Poland</td>\n",
       "      <td>24024</td>\n",
       "      <td>skirts</td>\n",
       "      <td>B10</td>\n",
       "      <td>black</td>\n",
       "      <td>1</td>\n",
       "      <td>67</td>\n",
       "      <td>1</td>\n",
       "    </tr>\n",
       "    <tr>\n",
       "      <th>165470</th>\n",
       "      <td>2008</td>\n",
       "      <td>August</td>\n",
       "      <td>13</td>\n",
       "      <td>1</td>\n",
       "      <td>Czech Republic</td>\n",
       "      <td>24025</td>\n",
       "      <td>trousers</td>\n",
       "      <td>A11</td>\n",
       "      <td>blue</td>\n",
       "      <td>1</td>\n",
       "      <td>62</td>\n",
       "      <td>1</td>\n",
       "    </tr>\n",
       "    <tr>\n",
       "      <th>165471</th>\n",
       "      <td>2008</td>\n",
       "      <td>August</td>\n",
       "      <td>13</td>\n",
       "      <td>1</td>\n",
       "      <td>Slovakia</td>\n",
       "      <td>24026</td>\n",
       "      <td>trousers</td>\n",
       "      <td>A2</td>\n",
       "      <td>blue</td>\n",
       "      <td>1</td>\n",
       "      <td>43</td>\n",
       "      <td>1</td>\n",
       "    </tr>\n",
       "    <tr>\n",
       "      <th>165472</th>\n",
       "      <td>2008</td>\n",
       "      <td>August</td>\n",
       "      <td>13</td>\n",
       "      <td>2</td>\n",
       "      <td>Slovakia</td>\n",
       "      <td>24026</td>\n",
       "      <td>blouses</td>\n",
       "      <td>C2</td>\n",
       "      <td>red</td>\n",
       "      <td>1</td>\n",
       "      <td>43</td>\n",
       "      <td>1</td>\n",
       "    </tr>\n",
       "    <tr>\n",
       "      <th>165473</th>\n",
       "      <td>2008</td>\n",
       "      <td>August</td>\n",
       "      <td>13</td>\n",
       "      <td>3</td>\n",
       "      <td>Slovakia</td>\n",
       "      <td>24026</td>\n",
       "      <td>skirts</td>\n",
       "      <td>B2</td>\n",
       "      <td>blue</td>\n",
       "      <td>2</td>\n",
       "      <td>57</td>\n",
       "      <td>1</td>\n",
       "    </tr>\n",
       "  </tbody>\n",
       "</table>\n",
       "<p>165474 rows × 12 columns</p>\n",
       "</div>"
      ],
      "text/plain": [
       "        year   month  day  order         country  session ID  \\\n",
       "0       2008   April    1      1          Poland           1   \n",
       "1       2008   April    1      2          Poland           1   \n",
       "2       2008   April    1      3          Poland           1   \n",
       "3       2008   April    1      4          Poland           1   \n",
       "4       2008   April    1      5          Poland           1   \n",
       "...      ...     ...  ...    ...             ...         ...   \n",
       "165469  2008  August   13      1          Poland       24024   \n",
       "165470  2008  August   13      1  Czech Republic       24025   \n",
       "165471  2008  August   13      1        Slovakia       24026   \n",
       "165472  2008  August   13      2        Slovakia       24026   \n",
       "165473  2008  August   13      3        Slovakia       24026   \n",
       "\n",
       "       page 1 (main category) page 2 (clothing model) colour  \\\n",
       "0                    trousers                     A13  beige   \n",
       "1                    trousers                     A16  beige   \n",
       "2                      skirts                      B4  olive   \n",
       "3                      skirts                     B17   gray   \n",
       "4                      skirts                      B8  brown   \n",
       "...                       ...                     ...    ...   \n",
       "165469                 skirts                     B10  black   \n",
       "165470               trousers                     A11   blue   \n",
       "165471               trousers                      A2   blue   \n",
       "165472                blouses                      C2    red   \n",
       "165473                 skirts                      B2   blue   \n",
       "\n",
       "        model photography  price  page  \n",
       "0                       1     28     1  \n",
       "1                       1     33     1  \n",
       "2                       1     52     1  \n",
       "3                       2     38     1  \n",
       "4                       2     52     1  \n",
       "...                   ...    ...   ...  \n",
       "165469                  1     67     1  \n",
       "165470                  1     62     1  \n",
       "165471                  1     43     1  \n",
       "165472                  1     43     1  \n",
       "165473                  2     57     1  \n",
       "\n",
       "[165474 rows x 12 columns]"
      ]
     },
     "execution_count": 20,
     "metadata": {},
     "output_type": "execute_result"
    }
   ],
   "source": [
    "df"
   ]
  },
  {
   "cell_type": "code",
   "execution_count": 21,
   "metadata": {},
   "outputs": [],
   "source": [
    "df = pd.DataFrame(df)\n",
    "df.to_csv('newdataset.csv', index=False)"
   ]
  },
  {
   "cell_type": "code",
   "execution_count": 79,
   "metadata": {},
   "outputs": [
    {
     "name": "stdout",
     "output_type": "stream",
     "text": [
      "<class 'pandas.core.frame.DataFrame'>\n",
      "RangeIndex: 165474 entries, 0 to 165473\n",
      "Data columns (total 9 columns):\n",
      " #   Column                   Non-Null Count   Dtype \n",
      "---  ------                   --------------   ----- \n",
      " 0   month                    165474 non-null  object\n",
      " 1   day                      165474 non-null  int64 \n",
      " 2   order                    165474 non-null  int64 \n",
      " 3   country                  165474 non-null  object\n",
      " 4   session ID               165474 non-null  int64 \n",
      " 5   page 1 (main category)   165474 non-null  object\n",
      " 6   page 2 (clothing model)  165474 non-null  object\n",
      " 7   colour                   165474 non-null  object\n",
      " 8   price                    165474 non-null  int64 \n",
      "dtypes: int64(4), object(5)\n",
      "memory usage: 11.4+ MB\n"
     ]
    }
   ],
   "source": [
    "df.info()"
   ]
  },
  {
   "cell_type": "markdown",
   "metadata": {},
   "source": [
    "Inference:\n",
    "- No  missing values present in the dataset\n",
    "- The size of the dataset is 165474 rows and 9 columns\n",
    "- Month, Country, Page 1 (main category),Page2 (Clothing model),Colour are categorical type."
   ]
  },
  {
   "cell_type": "markdown",
   "metadata": {},
   "source": []
  },
  {
   "cell_type": "code",
   "execution_count": 83,
   "metadata": {},
   "outputs": [],
   "source": [
    "numerical_columns = df.columns[df.dtypes != 'object']\n",
    "categorical_columns = df.columns[df.dtypes == 'object']\n"
   ]
  },
  {
   "cell_type": "code",
   "execution_count": null,
   "metadata": {},
   "outputs": [],
   "source": []
  },
  {
   "cell_type": "code",
   "execution_count": 85,
   "metadata": {},
   "outputs": [
    {
     "data": {
      "text/html": [
       "<div>\n",
       "<style scoped>\n",
       "    .dataframe tbody tr th:only-of-type {\n",
       "        vertical-align: middle;\n",
       "    }\n",
       "\n",
       "    .dataframe tbody tr th {\n",
       "        vertical-align: top;\n",
       "    }\n",
       "\n",
       "    .dataframe thead th {\n",
       "        text-align: right;\n",
       "    }\n",
       "</style>\n",
       "<table border=\"1\" class=\"dataframe\">\n",
       "  <thead>\n",
       "    <tr style=\"text-align: right;\">\n",
       "      <th></th>\n",
       "      <th>month</th>\n",
       "      <th>country</th>\n",
       "      <th>page 1 (main category)</th>\n",
       "      <th>page 2 (clothing model)</th>\n",
       "      <th>colour</th>\n",
       "    </tr>\n",
       "  </thead>\n",
       "  <tbody>\n",
       "    <tr>\n",
       "      <th>count</th>\n",
       "      <td>165474</td>\n",
       "      <td>165474</td>\n",
       "      <td>165474</td>\n",
       "      <td>165474</td>\n",
       "      <td>165474</td>\n",
       "    </tr>\n",
       "    <tr>\n",
       "      <th>unique</th>\n",
       "      <td>5</td>\n",
       "      <td>47</td>\n",
       "      <td>4</td>\n",
       "      <td>217</td>\n",
       "      <td>14</td>\n",
       "    </tr>\n",
       "    <tr>\n",
       "      <th>top</th>\n",
       "      <td>April</td>\n",
       "      <td>Poland</td>\n",
       "      <td>trousers</td>\n",
       "      <td>B4</td>\n",
       "      <td>black</td>\n",
       "    </tr>\n",
       "    <tr>\n",
       "      <th>freq</th>\n",
       "      <td>48199</td>\n",
       "      <td>133963</td>\n",
       "      <td>49742</td>\n",
       "      <td>3579</td>\n",
       "      <td>29764</td>\n",
       "    </tr>\n",
       "  </tbody>\n",
       "</table>\n",
       "</div>"
      ],
      "text/plain": [
       "         month country page 1 (main category) page 2 (clothing model)  colour\n",
       "count   165474  165474                 165474                  165474  165474\n",
       "unique       5      47                      4                     217      14\n",
       "top      April  Poland               trousers                      B4   black\n",
       "freq     48199  133963                  49742                    3579   29764"
      ]
     },
     "execution_count": 85,
     "metadata": {},
     "output_type": "execute_result"
    }
   ],
   "source": [
    "df[categorical_columns].describe()"
   ]
  },
  {
   "cell_type": "markdown",
   "metadata": {},
   "source": []
  },
  {
   "cell_type": "code",
   "execution_count": 81,
   "metadata": {},
   "outputs": [
    {
     "name": "stdout",
     "output_type": "stream",
     "text": [
      "\n",
      "\n"
     ]
    },
    {
     "data": {
      "image/png": "[encoded data removed]",
      "text/plain": [
       "<Figure size 720x720 with 1 Axes>"
      ]
     },
     "metadata": {
      "needs_background": "light"
     },
     "output_type": "display_data"
    },
    {
     "name": "stdout",
     "output_type": "stream",
     "text": [
      "\n",
      "\n"
     ]
    },
    {
     "data": {
      "image/png": "[encoded data removed]",
      "text/plain": [
       "<Figure size 432x288 with 1 Axes>"
      ]
     },
     "metadata": {
      "needs_background": "light"
     },
     "output_type": "display_data"
    },
    {
     "name": "stdout",
     "output_type": "stream",
     "text": [
      "\n",
      "\n"
     ]
    },
    {
     "data": {
      "image/png": "[encoded data removed]",
      "text/plain": [
       "<Figure size 432x288 with 1 Axes>"
      ]
     },
     "metadata": {
      "needs_background": "light"
     },
     "output_type": "display_data"
    },
    {
     "name": "stdout",
     "output_type": "stream",
     "text": [
      "\n",
      "\n"
     ]
    },
    {
     "data": {
      "image/png": "[encoded data removed]",
      "text/plain": [
       "<Figure size 432x288 with 1 Axes>"
      ]
     },
     "metadata": {
      "needs_background": "light"
     },
     "output_type": "display_data"
    }
   ],
   "source": [
    "import seaborn as sns \n",
    "import matplotlib.pyplot as plt \n",
    "plt.figure(figsize=(10,10))\n",
    "x = 1\n",
    "for i in numerical_columns: \n",
    "    sns.histplot(data = df, x = i, kde = True)\n",
    "    print('\\n')\n",
    "    plt.show()"
   ]
  },
  {
   "cell_type": "code",
   "execution_count": 90,
   "metadata": {},
   "outputs": [
    {
     "data": {
      "image/png": "[encoded data removed]",
      "text/plain": [
       "<Figure size 720x432 with 1 Axes>"
      ]
     },
     "metadata": {
      "needs_background": "light"
     },
     "output_type": "display_data"
    },
    {
     "data": {
      "image/png": "[encoded data removed]",
      "text/plain": [
       "<Figure size 432x288 with 1 Axes>"
      ]
     },
     "metadata": {
      "needs_background": "light"
     },
     "output_type": "display_data"
    },
    {
     "data": {
      "image/png": "[encoded data removed]",
      "text/plain": [
       "<Figure size 432x288 with 1 Axes>"
      ]
     },
     "metadata": {
      "needs_background": "light"
     },
     "output_type": "display_data"
    },
    {
     "data": {
      "image/png": "[encoded data removed]",
      "text/plain": [
       "<Figure size 432x288 with 1 Axes>"
      ]
     },
     "metadata": {
      "needs_background": "light"
     },
     "output_type": "display_data"
    },
    {
     "data": {
      "image/png": "[encoded data removed]",
      "text/plain": [
       "<Figure size 432x288 with 1 Axes>"
      ]
     },
     "metadata": {
      "needs_background": "light"
     },
     "output_type": "display_data"
    }
   ],
   "source": [
    "subset_df = df[categorical_columns]\n",
    "\n",
    "# Plotting\n",
    "plt.figure(figsize=(10, 6))\n",
    "for col in subset_df.columns:\n",
    "    sns.countplot(data=subset_df, x=col)\n",
    "    plt.title(f'Count of {col}')\n",
    "    plt.xlabel(col)\n",
    "    plt.ylabel('Count')\n",
    "    plt.xticks(rotation=90)\n",
    "    plt.show()"
   ]
  },
  {
   "cell_type": "code",
   "execution_count": 91,
   "metadata": {},
   "outputs": [
    {
     "data": {
      "text/plain": [
       "<AxesSubplot:>"
      ]
     },
     "execution_count": 91,
     "metadata": {},
     "output_type": "execute_result"
    },
    {
     "data": {
      "image/png": "[encoded data removed]",
      "text/plain": [
       "<Figure size 432x288 with 2 Axes>"
      ]
     },
     "metadata": {
      "needs_background": "light"
     },
     "output_type": "display_data"
    }
   ],
   "source": [
    "sns.heatmap(df[numerical_columns].corr(), annot = True)"
   ]
  },
  {
   "cell_type": "code",
   "execution_count": 92,
   "metadata": {},
   "outputs": [
    {
     "data": {
      "text/html": [
       "<div>\n",
       "<style scoped>\n",
       "    .dataframe tbody tr th:only-of-type {\n",
       "        vertical-align: middle;\n",
       "    }\n",
       "\n",
       "    .dataframe tbody tr th {\n",
       "        vertical-align: top;\n",
       "    }\n",
       "\n",
       "    .dataframe thead th {\n",
       "        text-align: right;\n",
       "    }\n",
       "</style>\n",
       "<table border=\"1\" class=\"dataframe\">\n",
       "  <thead>\n",
       "    <tr style=\"text-align: right;\">\n",
       "      <th></th>\n",
       "      <th>day</th>\n",
       "      <th>order</th>\n",
       "      <th>session ID</th>\n",
       "      <th>price</th>\n",
       "    </tr>\n",
       "  </thead>\n",
       "  <tbody>\n",
       "    <tr>\n",
       "      <th>day</th>\n",
       "      <td>1.000000</td>\n",
       "      <td>-0.021744</td>\n",
       "      <td>0.161369</td>\n",
       "      <td>-0.002818</td>\n",
       "    </tr>\n",
       "    <tr>\n",
       "      <th>order</th>\n",
       "      <td>-0.021744</td>\n",
       "      <td>1.000000</td>\n",
       "      <td>0.021829</td>\n",
       "      <td>-0.064779</td>\n",
       "    </tr>\n",
       "    <tr>\n",
       "      <th>session ID</th>\n",
       "      <td>0.161369</td>\n",
       "      <td>0.021829</td>\n",
       "      <td>1.000000</td>\n",
       "      <td>0.011669</td>\n",
       "    </tr>\n",
       "    <tr>\n",
       "      <th>price</th>\n",
       "      <td>-0.002818</td>\n",
       "      <td>-0.064779</td>\n",
       "      <td>0.011669</td>\n",
       "      <td>1.000000</td>\n",
       "    </tr>\n",
       "  </tbody>\n",
       "</table>\n",
       "</div>"
      ],
      "text/plain": [
       "                 day     order  session ID     price\n",
       "day         1.000000 -0.021744    0.161369 -0.002818\n",
       "order      -0.021744  1.000000    0.021829 -0.064779\n",
       "session ID  0.161369  0.021829    1.000000  0.011669\n",
       "price      -0.002818 -0.064779    0.011669  1.000000"
      ]
     },
     "execution_count": 92,
     "metadata": {},
     "output_type": "execute_result"
    }
   ],
   "source": [
    "df.corr()"
   ]
  }
 ],
 "metadata": {
  "kernelspec": {
   "display_name": "venv",
   "language": "python",
   "name": "python3"
  },
  "language_info": {
   "codemirror_mode": {
    "name": "ipython",
    "version": 3
   },
   "file_extension": ".py",
   "mimetype": "text/x-python",
   "name": "python",
   "nbconvert_exporter": "python",
   "pygments_lexer": "ipython3",
   "version": "3.9.7"
  }
 },
 "nbformat": 4,
 "nbformat_minor": 2
}
